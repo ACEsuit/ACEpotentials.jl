{
 "cells": [
  {
   "cell_type": "markdown",
   "id": "a93a365f",
   "metadata": {},
   "source": [
    "# `ACEpotentials.jl` Tutorial\n"
   ]
  },
  {
   "cell_type": "markdown",
   "id": "d68ad0c9",
   "metadata": {},
   "source": [
    "## Introduction\n",
    "\n",
    "The `ACEpotentials.jl` documentation (https://acesuit.github.io/ACEpotentials.jl/) contains a number of short, focused tutorials on key topics. This tutorial is longer and has a single narrative. Many `Julia` commands are introduced by example."
   ]
  },
  {
   "cell_type": "markdown",
   "id": "09832a51",
   "metadata": {},
   "source": [
    "### Installing ACEpotentials\n",
    "\n",
    "`ACEpotentials` version 0.8 and above requires Julia 1.10. \n",
    "For detailed installation instructions, see: https://acesuit.github.io/ACEpotentials.jl/dev/gettingstarted/installation/.\n",
    "\n",
    "Warning: The following installation will take several minutes."
   ]
  },
  {
   "cell_type": "code",
   "execution_count": null,
   "id": "c3e4ccca",
   "metadata": {},
   "outputs": [],
   "source": [
    "# add and load general packages used in this notebook.\n",
    "using Pkg\n",
    "# Pkg.Registry.add(\"General\")  # only needed when installing Julia for the first time\n",
    "Pkg.activate(\".\")\n",
    "Pkg.add([\"LaTeXStrings\", \"MultivariateStats\", \"Plots\"])\n",
    "Pkg.add(\"PrettyTables\")\n",
    "Pkg.add(\"Suppressor\")\n",
    "Pkg.add(\"ExtXYZ\")\n",
    "Pkg.add(\"Unitful\")\n",
    "Pkg.add(\"Distributed\")\n",
    "\n",
    "# ACEpotentials installation \n",
    "using Pkg\n",
    "Pkg.activate(\".\")\n",
    "Pkg.Registry.add(RegistrySpec(url=\"https://github.com/ACEsuit/ACEregistry\"))\n",
    "# Pkg.add(\"ACEpotentials\")"
   ]
  },
  {
   "cell_type": "markdown",
   "id": "5cbff9a2",
   "metadata": {},
   "source": [
    "Now, let's check the status of the installed projects."
   ]
  },
  {
   "cell_type": "code",
   "execution_count": null,
   "id": "43accc89",
   "metadata": {},
   "outputs": [],
   "source": [
    "using Pkg\n",
    "Pkg.status()"
   ]
  },
  {
   "cell_type": "markdown",
   "id": "d05dfd1f",
   "metadata": {},
   "source": [
    "Import all the packages that we will be using. "
   ]
  },
  {
   "cell_type": "code",
   "execution_count": null,
   "id": "b692a172",
   "metadata": {},
   "outputs": [],
   "source": [
    "using LaTeXStrings, MultivariateStats, Plots, PrettyTables, Printf, \n",
    "      Statistics, Suppressor, ExtXYZ, Unitful \n",
    "\n",
    "using ACEpotentials"
   ]
  },
  {
   "cell_type": "markdown",
   "id": "56c14070",
   "metadata": {},
   "source": [
    "## Part 1: Basic dataset analysis\n",
    "\n",
    "`ACEpotentials` provides quick access to several example datasets, which can be useful for testing. The following command lists these datasets. (We expect to expand this list signifcantly; please feel free to suggest additions.)"
   ]
  },
  {
   "cell_type": "code",
   "execution_count": null,
   "id": "f6fff4d1",
   "metadata": {},
   "outputs": [],
   "source": [
    "ACEpotentials.list_example_datasets()"
   ]
  },
  {
   "cell_type": "markdown",
   "id": "ed0aa0f0",
   "metadata": {},
   "source": [
    "We begin by loading the tiny silicon dataset."
   ]
  },
  {
   "cell_type": "code",
   "execution_count": null,
   "id": "efd61de7",
   "metadata": {},
   "outputs": [],
   "source": [
    "Si_tiny_dataset, _, _ = ACEpotentials.example_dataset(\"Si_tiny\");"
   ]
  },
  {
   "cell_type": "markdown",
   "id": "332f561c",
   "metadata": {},
   "source": [
    "These data were taken from a larger set published with:\n",
    "\n",
    "> A. P. Bartók, J. Kermode, N. Bernstein, and G. Csányi, **Machine Learning a General-Purpose Interatomic Potential for Silicon**, Phys. Rev. X 8, 041048 (2018)\n",
    "\n",
    "To illustrate the procedure for loading extended `xyz` data from a file, we download the larger dataset and load it."
   ]
  },
  {
   "cell_type": "code",
   "execution_count": null,
   "id": "626606c5",
   "metadata": {},
   "outputs": [],
   "source": [
    "download(\"https://www.dropbox.com/scl/fi/z6lvcpx3djp775zenz032/Si-PRX-2018.xyz?rlkey=ja5e9z99c3ta1ugra5ayq5lcv&st=cs6g7vbu&dl=1\",\n",
    "         \"Si_dataset.xyz\");\n",
    "\n",
    "Si_dataset = ExtXYZ.load(\"Si_dataset.xyz\");\n"
   ]
  },
  {
   "cell_type": "code",
   "execution_count": null,
   "id": "56e50c40",
   "metadata": {},
   "outputs": [],
   "source": [
    "# The warning in the last cell refers to the first element, so we remove it. \n",
    "Si_isolated = Si_dataset[1] \n",
    "deleteat!(Si_dataset, 1);"
   ]
  },
  {
   "cell_type": "markdown",
   "id": "da46ee0e",
   "metadata": {},
   "source": [
    "Next, we assess the dataset sizes."
   ]
  },
  {
   "cell_type": "code",
   "execution_count": null,
   "id": "8f5bd6dd",
   "metadata": {},
   "outputs": [],
   "source": [
    "println(\"The tiny dataset has \", length(Si_tiny_dataset), \" structures.\")\n",
    "println(\"The large dataset has \", length(Si_dataset), \" structures.\")"
   ]
  },
  {
   "cell_type": "markdown",
   "id": "03a90c9c",
   "metadata": {},
   "source": [
    "Next, we create arrays containing the `config_type` for each structure in the datasets. Afterwards, we count the configurations of each type."
   ]
  },
  {
   "cell_type": "code",
   "execution_count": null,
   "id": "9d88aece",
   "metadata": {},
   "outputs": [],
   "source": [
    "config_types_tiny = [at[:config_type] for at in Si_tiny_dataset]\n",
    "config_types = [ at[:config_type] for at in Si_dataset]\n",
    "\n",
    "function count_configs(config_types)\n",
    "    config_counts = [sum(config_types .== ct) for ct in unique(config_types)]\n",
    "    config_dict = Dict([ct=>cc for (ct,cc) in zip(unique(config_types), config_counts)])\n",
    "end;"
   ]
  },
  {
   "cell_type": "code",
   "execution_count": null,
   "id": "166af19a",
   "metadata": {},
   "outputs": [],
   "source": [
    "println(\"There are \", length(unique(config_types_tiny)), \n",
    "        \" unique config_types in the tiny dataset:\")\n",
    "display(count_configs(config_types_tiny))"
   ]
  },
  {
   "cell_type": "code",
   "execution_count": null,
   "id": "0d79f22b",
   "metadata": {},
   "outputs": [],
   "source": [
    "println(\"There are \", length(unique(config_types)), \n",
    "        \" unique config_types in the full dataset:\")\n",
    "display(count_configs(config_types))"
   ]
  },
  {
   "cell_type": "markdown",
   "id": "a9ef8a2a",
   "metadata": {},
   "source": [
    "Two basic distributions which indicate how well the data fills space are the radial and angular distribution functions. We begin with the radial distribution function, plotting using the `histogram` function in `Plots.jl`. For the RDF we add some vertical lines to indicate the distances and first, second neighbours and so forth to confirm that the peaks are in the right place."
   ]
  },
  {
   "cell_type": "code",
   "execution_count": null,
   "id": "2df4f5b3",
   "metadata": {},
   "outputs": [],
   "source": [
    "r_cut = 6.0u\"Å\"\n",
    "rnn = 2.35\n",
    "\n",
    "rdf_tiny = ACEpotentials.get_rdf(Si_tiny_dataset, r_cut; rescale = true)\n",
    "plt_rdf_1 = histogram(rdf_tiny[(:Si, :Si)], bins=150, label = \"rdf\",\n",
    "                      title=\"Si_tiny_dataset\", titlefontsize=10,\n",
    "                      xlabel = L\"r[\\AA]\", ylabel = \"RDF\", yticks = [],\n",
    "                      xlims=(1.5,6), size=(400,200), left_margin = 2Plots.mm)\n",
    "vline!(rnn * [1.0, 1.633, 1.915, 2.3, 2.5], label = \"r1, r2, ...\", lw=3)\n",
    "\n",
    "rdf = ACEpotentials.get_rdf(Si_dataset, r_cut; rescale = true);\n",
    "plt_rdf_2 = histogram(rdf[(:Si, :Si)], bins=150, label = \"rdf\",\n",
    "                      title=\"Si_dataset\", titlefontsize=10,\n",
    "                      xlabel = L\"r[\\AA]\", ylabel = \"RDF\", yticks = [],\n",
    "                      xlims=(1.5,6), size=(400,200), left_margin = 2Plots.mm)\n",
    "vline!(rnn * [1.0, 1.633, 1.915, 2.3, 2.5], label = \"r1, r2, ...\", lw=3)\n",
    "\n",
    "plot(plt_rdf_1, plt_rdf_2, layout=(2,1), size=(400,400))"
   ]
  },
  {
   "cell_type": "markdown",
   "id": "d1333d6a",
   "metadata": {},
   "source": [
    "The larger dataset clearly has a better-converged radial distribution function. (But also a much larger ratio between high and low distribution regions.)"
   ]
  },
  {
   "cell_type": "markdown",
   "id": "b610ecd4",
   "metadata": {},
   "source": [
    "For the angular distribution function, we use a cutoff just above the nearest-neighbour distance so we can clearly see the equilibrium bond-angles. In this case, the vertical line indicates the equilibrium bond angle."
   ]
  },
  {
   "cell_type": "code",
   "execution_count": null,
   "id": "4b1317ca",
   "metadata": {},
   "outputs": [],
   "source": [
    "r_cut_adf = 1.25 * rnn * u\"Å\"\n",
    "eq_angle = 1.91 # radians\n",
    "adf_tiny = ACEpotentials.get_adf(Si_tiny_dataset, r_cut_adf);\n",
    "plt_adf_1 = histogram(adf_tiny, bins=50, label = \"adf\", yticks = [], c = 3, \n",
    "                    title = \"Si_tiny_dataset\", titlefontsize = 10,\n",
    "                    xlabel = L\"\\theta\", ylabel = \"ADF\",\n",
    "                    xlims = (0, π), size=(400,200), left_margin = 2Plots.mm)\n",
    "vline!([ eq_angle,], label = \"109.5˚\", lw=3)\n",
    "\n",
    "adf = ACEpotentials.get_adf(Si_dataset, r_cut_adf);\n",
    "plt_adf_2 = histogram(adf, bins=50, label = \"adf\", yticks = [], c = 3, \n",
    "                    title = \"Si_dataset\", titlefontsize = 10,\n",
    "                    xlabel = L\"\\theta\", ylabel = \"ADF\",\n",
    "                    xlims = (0, π), size=(400,200), left_margin = 2Plots.mm)\n",
    "vline!([ eq_angle,], label = \"109.5˚\", lw=3)\n",
    "\n",
    "plot(plt_adf_1, plt_adf_2, layout=(2,1), size=(400,400))"
   ]
  },
  {
   "cell_type": "markdown",
   "id": "70fc9f20",
   "metadata": {},
   "source": [
    "For later use, we define a function that extracts the energies stored in the silicon datasets."
   ]
  },
  {
   "cell_type": "code",
   "execution_count": null,
   "id": "b238f1ee",
   "metadata": {},
   "outputs": [],
   "source": [
    "function extract_energies(dataset)\n",
    "    energies = []\n",
    "    for atoms in dataset\n",
    "        for key in keys(atoms)\n",
    "            if lowercase(String(key)) == \"dft_energy\"\n",
    "                push!(energies, atoms[key] / length(atoms))\n",
    "            end\n",
    "        end\n",
    "    end\n",
    "    return energies\n",
    "end;\n",
    "    \n",
    "Si_dataset_energies = extract_energies(Si_dataset)\n",
    "; # the ; is just to suppress ouput"
   ]
  },
  {
   "cell_type": "markdown",
   "id": "a239e17c",
   "metadata": {},
   "source": [
    "## Part 2: ACE descriptors\n",
    "\n",
    "An ACE basis specifies a vector of invariant features of atomic environments and can therefore be used as a general descriptor.\n",
    "\n",
    "Some important parameters include:\n",
    "* `elements`: list of chemical species, as symbols;\n",
    "* `order`: correlation/interaction order (body order - 1);\n",
    "* `totaldegree`: maximum total polynomial degree used for the basis;\n",
    "* `rcut` : cutoff radius (optional, defaults are provided)."
   ]
  },
  {
   "cell_type": "code",
   "execution_count": null,
   "id": "f3770746",
   "metadata": {},
   "outputs": [],
   "source": [
    "model = ace1_model(elements = [:Si],\n",
    "                   rcut = 5.5,\n",
    "                   order = 3,        # body-order - 1\n",
    "                   totaldegree = 8);"
   ]
  },
  {
   "cell_type": "markdown",
   "id": "61a22367",
   "metadata": {},
   "source": [
    "As an example, we compute an averaged structural descriptor for each configuration in the tiny dataset."
   ]
  },
  {
   "cell_type": "code",
   "execution_count": null,
   "id": "2eeeca3c",
   "metadata": {},
   "outputs": [],
   "source": [
    "descriptors = []\n",
    "for system in Si_tiny_dataset\n",
    "    struct_descriptor = sum(site_descriptors(system, model)) / length(system)\n",
    "    push!(descriptors, struct_descriptor)\n",
    "end"
   ]
  },
  {
   "cell_type": "markdown",
   "id": "456c530e",
   "metadata": {},
   "source": [
    "Next, we extract and plot the principal components of the structural descriptors. Note the segregation by configuration type."
   ]
  },
  {
   "cell_type": "code",
   "execution_count": null,
   "id": "0a4895ed",
   "metadata": {},
   "outputs": [],
   "source": [
    "descriptors = reduce(hcat, descriptors)  # convert to matrix\n",
    "M = fit(PCA, descriptors; maxoutdim=3, pratio=1)\n",
    "descriptors_trans = transform(M, descriptors)\n",
    "p = scatter(\n",
    "     descriptors_trans[1,:], descriptors_trans[2,:], descriptors_trans[3,:],\n",
    "     marker=:circle, linewidth=0, group=config_types_tiny, legend=:right)\n",
    "plot!(p, xlabel=\"PC1\", ylabel=\"PC2\", zlabel=\"PC3\", camera=(20,10))"
   ]
  },
  {
   "cell_type": "markdown",
   "id": "094cbadf",
   "metadata": {},
   "source": [
    "Finally, we repeat the procedure for the full dataset. Some clustering is apparent, although the results are a bit harder to interpret."
   ]
  },
  {
   "cell_type": "code",
   "execution_count": null,
   "id": "5a991971",
   "metadata": {},
   "outputs": [],
   "source": [
    "descriptors = []\n",
    "for system in Si_dataset\n",
    "    struct_descriptor = sum(site_descriptors(system, model)) / length(system)\n",
    "    push!(descriptors, struct_descriptor)\n",
    "end\n",
    "\n",
    "descriptors = reduce(hcat, descriptors)  # convert to matrix\n",
    "M = fit(PCA, descriptors; maxoutdim=3, pratio=1)\n",
    "descriptors_trans = transform(M, descriptors)\n",
    "p = scatter(\n",
    "     descriptors_trans[1,:], descriptors_trans[2,:], descriptors_trans[3,:],\n",
    "     marker=:circle, linewidth=0, group=config_types, legend=:right)\n",
    "plot!(p, xlabel=\"PC1\", ylabel=\"PC2\", zlabel=\"PC3\", camera=(10,10))"
   ]
  },
  {
   "cell_type": "markdown",
   "id": "95d21dba",
   "metadata": {},
   "source": [
    "## Part 3: Basic model fitting"
   ]
  },
  {
   "cell_type": "markdown",
   "id": "d24ffc03",
   "metadata": {},
   "source": [
    "We begin by defining an (extremely simple) `ACEModel`."
   ]
  },
  {
   "cell_type": "code",
   "execution_count": null,
   "id": "3a60449d",
   "metadata": {},
   "outputs": [],
   "source": [
    "model = ace1_model(\n",
    "              elements = [:Si,],\n",
    "              order = 3,\n",
    "              totaldegree = 8,\n",
    "              rcut = 5.0,\n",
    "              Eref = Dict(:Si => -158.54496821))\n",
    "\n",
    "# `ace1_model` specifies a linear model `model`; because it is linear \n",
    "# it is implicitly defined by a basis. In `ACEpotentials`, the size of \n",
    "# this basis (= number of parameters) can be checked as follows\n",
    "@show length_basis(model);"
   ]
  },
  {
   "cell_type": "markdown",
   "id": "e6aae1c8",
   "metadata": {},
   "source": [
    "Next, we fit determine the model parameters using the tiny dataset and ridge regression via the `QR` solver."
   ]
  },
  {
   "cell_type": "code",
   "execution_count": null,
   "id": "f1a33587",
   "metadata": {},
   "outputs": [],
   "source": [
    "solver = ACEfit.QR(lambda=1e-1)\n",
    "data_keys = (energy_key = \"dft_energy\", force_key = \"dft_force\", virial_key = \"dft_virial\")\n",
    "acefit!(Si_tiny_dataset, model;\n",
    "        solver=solver, data_keys...);"
   ]
  },
  {
   "cell_type": "code",
   "execution_count": null,
   "id": "39dd706b",
   "metadata": {},
   "outputs": [],
   "source": [
    "@info(\"Training Errors\")\n",
    "linear_errors(Si_tiny_dataset, model; data_keys...);\n",
    "\n",
    "@info(\"Test Error\")\n",
    "linear_errors(Si_dataset, model; data_keys...);"
   ]
  },
  {
   "cell_type": "markdown",
   "id": "54fd1c55",
   "metadata": {},
   "source": [
    "Export to LAMMPS is currently not supported. Earlier versions of `ACEpotentials` supported this via \n",
    "```\n",
    "export2lammps(\"model.yace\", model)\n",
    "```\n",
    "and some variant will likely be re-instated in the future. "
   ]
  },
  {
   "cell_type": "markdown",
   "id": "8edc6cb0",
   "metadata": {},
   "source": [
    "To save a model for future use within Julia, we can use "
   ]
  },
  {
   "cell_type": "code",
   "execution_count": null,
   "id": "7605230b",
   "metadata": {},
   "outputs": [],
   "source": [
    "ACEpotentials.save_model(model, \"Si_tiny_tutorial.json\")"
   ]
  },
  {
   "cell_type": "markdown",
   "id": "13a0efb6",
   "metadata": {},
   "source": [
    "We can load the model again as follows. "
   ]
  },
  {
   "cell_type": "code",
   "execution_count": null,
   "id": "1599937f",
   "metadata": {},
   "outputs": [],
   "source": [
    "m2, raw = ACEpotentials.load_model(\"Si_tiny_tutorial.json\");"
   ]
  },
  {
   "cell_type": "markdown",
   "id": "0db7b9e0",
   "metadata": {},
   "source": [
    "Note that this requires us to work in the same (or a compatible) project environment. To guarantee that models can always be reconstructed we save a specification of the entire Julia environment together with the fitted model. This allows us to recover the exact project environment in case it is lost. "
   ]
  },
  {
   "cell_type": "code",
   "execution_count": null,
   "id": "0f04e3a1",
   "metadata": {},
   "outputs": [],
   "source": [
    "raw[\"manifest\"]"
   ]
  },
  {
   "cell_type": "markdown",
   "id": "1527ec9c",
   "metadata": {},
   "source": [
    "## Part 4: Committee models\n",
    "\n",
    "**THIS PART OF THE TUTORIAL HAS NOT BEEN UPDATED TO ≥ 0.8**\n",
    "\n",
    "`ACEpotentials.jl` can produce committee models using Bayesian linear regression. Such committees provide uncertainty estimates useful for active learning.\n",
    "\n",
    "Recall our two silicon datasets. We begin by training a (relatively small) model on the tiny version.\n",
    "\n",
    "Note the use of the `BLR` solver with a nonzero committee size."
   ]
  },
  {
   "cell_type": "code",
   "execution_count": null,
   "id": "0e2ecd4b",
   "metadata": {},
   "outputs": [],
   "source": [
    "model = acemodel(elements = [:Si,],\n",
    "                 Eref = [:Si => -158.54496821],\n",
    "                 order = 3,\n",
    "                 totaldegree = 12);\n",
    "\n",
    "acefit!(model, Si_tiny_dataset;\n",
    "        solver = ACEfit.BLR(committee_size=50, factorization=:svd),\n",
    "        energy_key = \"dft_energy\", force_key = \"dft_force\",\n",
    "        verbose = false);"
   ]
  },
  {
   "cell_type": "markdown",
   "id": "f4d036c9",
   "metadata": {},
   "source": [
    "Next we define a function which assesses model performance on the full silicon dataset."
   ]
  },
  {
   "cell_type": "code",
   "execution_count": null,
   "id": "bb111f24",
   "metadata": {},
   "outputs": [],
   "source": [
    "function assess_model(model, train_dataset)\n",
    "\n",
    "    plot([-164,-158], [-164,-158]; lc=:black, label=\"\")\n",
    "    \n",
    "    model_energies = []\n",
    "    model_std = []\n",
    "    for atoms in Si_dataset\n",
    "        ene, co_ene = ACE1.co_energy(model.potential, atoms)\n",
    "        push!(model_energies, ene/length(atoms))\n",
    "        push!(model_std, std(co_ene/length(atoms)))\n",
    "    end\n",
    "    rmse = sqrt(sum((model_energies-Si_dataset_energies).^2)/length(Si_dataset))\n",
    "    mae = sum(abs.(model_energies-Si_dataset_energies))/length(Si_dataset)\n",
    "    scatter!(Si_dataset_energies, model_energies;\n",
    "             label=\"full dataset\",\n",
    "             title = @sprintf(\"Structures Used In Training:  %i out of %i\\n\", length(train_dataset), length(Si_dataset)) *\n",
    "                     @sprintf(\"RMSE (MAE) For Entire Dataset:  %.0f (%.0f) meV/atom\", 1000*rmse, 1000*mae),\n",
    "             titlefontsize = 8,\n",
    "             yerror = model_std,\n",
    "             xlabel=\"Energy [eV/atom]\", xlims=(-164,-158),\n",
    "             ylabel=\"Model Energy [eV/atom]\", ylims=(-164,-158),\n",
    "             aspect_ratio = :equal, color=1)\n",
    "\n",
    "    model_energies = [energy(model.potential,atoms)/length(atoms) for atoms in train_dataset]\n",
    "    scatter!(extract_energies(train_dataset), model_energies;\n",
    "             label=\"training set\", color=2)\n",
    "    \n",
    "end;"
   ]
  },
  {
   "cell_type": "markdown",
   "id": "517e5bcc",
   "metadata": {},
   "source": [
    "Applying this function to our current model yields"
   ]
  },
  {
   "cell_type": "code",
   "execution_count": null,
   "id": "a08b7013",
   "metadata": {},
   "outputs": [],
   "source": [
    "assess_model(model, Si_tiny_dataset)"
   ]
  },
  {
   "cell_type": "markdown",
   "id": "74c4e838",
   "metadata": {},
   "source": [
    "Clearly there is room to improve: the model-derived RMSE is 280 meV/atom for the full dataset. Moreover, the error bars show the standard deviation of the energies predicted by the commmittee, which are quite high for some data.\n",
    "\n",
    "Next, we will define a function that augments the tiny dataset by adding structures for which the model is least confident."
   ]
  },
  {
   "cell_type": "code",
   "execution_count": null,
   "id": "2ff77506",
   "metadata": {},
   "outputs": [],
   "source": [
    "function augment(old_dataset, old_model; num=5)\n",
    "\n",
    "    new_dataset = deepcopy(old_dataset)\n",
    "    new_model = deepcopy(old_model)\n",
    "    \n",
    "    model_std = []\n",
    "    for atoms in Si_dataset\n",
    "        ene, co_ene = ACE1.co_energy(new_model.potential, atoms)\n",
    "        push!(model_std, std(co_ene/length(atoms)))\n",
    "    end\n",
    "    for atoms in Si_dataset[sortperm(model_std; rev=true)[1:num]]\n",
    "        push!(new_dataset, atoms)\n",
    "    end\n",
    "    @suppress acefit!(new_model, new_dataset;\n",
    "            solver = ACEfit.BLR(committee_size=50, factorization=:svd),\n",
    "            energy_key = \"dft_energy\", force_key = \"dft_force\",\n",
    "            verbose = false);\n",
    "    \n",
    "    return new_dataset, new_model\n",
    "end;"
   ]
  },
  {
   "cell_type": "markdown",
   "id": "e63ca204",
   "metadata": {},
   "source": [
    "The following applies this strategy, adding the five structures with the highest committee deviation."
   ]
  },
  {
   "cell_type": "code",
   "execution_count": null,
   "id": "488245cb",
   "metadata": {},
   "outputs": [],
   "source": [
    "new_dataset, new_model = augment(Si_tiny_dataset, model; num=5);\n",
    "assess_model(new_model, new_dataset)"
   ]
  },
  {
   "cell_type": "markdown",
   "id": "5efe53d5",
   "metadata": {},
   "source": [
    "Already, there is notable improvement. The overall errors have dropped, and the predictions for the worst-performing structures are much improved.\n",
    "\n",
    "Next, we perform four additional augmentation steps, adding twenty structures in total."
   ]
  },
  {
   "cell_type": "code",
   "execution_count": null,
   "id": "bc95321d",
   "metadata": {},
   "outputs": [],
   "source": [
    "for i in 1:4\n",
    "    @show i\n",
    "    new_dataset, new_model = augment(new_dataset, new_model; num=5);\n",
    "end\n",
    "assess_model(new_model, new_dataset)"
   ]
  },
  {
   "cell_type": "markdown",
   "id": "1902aa22",
   "metadata": {},
   "source": [
    "Remarkably, although we are using only a small fraction (~3%) of the full dataset, our model now performs reasonably well.\n",
    "\n",
    "Further iterations may improve on this result; however, a larger model is necessary to obtain extremely low errors.\n",
    "\n",
    "**Important:** While this dataset filtering can be useful, the connection with active learning is crucial. Recall that we _did not_ use the reference energies when selecting structures, only the committee deviation."
   ]
  },
  {
   "cell_type": "code",
   "execution_count": null,
   "id": "c1f58f51",
   "metadata": {},
   "outputs": [],
   "source": [
    "GC.gc()"
   ]
  },
  {
   "cell_type": "markdown",
   "id": "a7c1e084",
   "metadata": {},
   "source": [
    "## Part 5: Multiple elements"
   ]
  },
  {
   "cell_type": "markdown",
   "id": "1d7c0f66",
   "metadata": {},
   "source": [
    "We briefly demonstrate the syntax for multiple elements, using a TiAl dataset."
   ]
  },
  {
   "cell_type": "code",
   "execution_count": null,
   "id": "a7fe5032",
   "metadata": {},
   "outputs": [],
   "source": [
    "tial_data, _, _ = ACEpotentials.example_dataset(\"TiAl_tutorial\");"
   ]
  },
  {
   "cell_type": "markdown",
   "id": "a3ae9b8b",
   "metadata": {},
   "source": [
    "The species-dependent RDFs are obtained as"
   ]
  },
  {
   "cell_type": "code",
   "execution_count": null,
   "id": "96f23c7d",
   "metadata": {},
   "outputs": [],
   "source": [
    "r_cut = 6.0\n",
    "rdf = ACEpotentials.get_rdf(tial_data, r_cut * u\"Å\")\n",
    "plt_TiTi = histogram(rdf[(:Ti, :Ti)], bins=100, xlabel = \"\", c = 1,  \n",
    "         ylabel = \"RDF - TiTi\", label = \"\", yticks = [], xlims = (0, r_cut) )\n",
    "plt_TiAl = histogram(rdf[(:Ti, :Ti)], bins=100, xlabel = \"\", c = 2, \n",
    "         ylabel = \"RDF - TiAl\", label = \"\", yticks = [], xlims = (0, r_cut) )\n",
    "plt_AlAl = histogram(rdf[(:Al, :Al)], bins=100, xlabel = L\"r [\\AA]\", c = 3, \n",
    "         ylabel = \"RDF - AlAl\", label = \"\", yticks = [], xlims = (0, r_cut), )\n",
    "plot(plt_TiTi, plt_TiAl, plt_AlAl, layout = (3,1), size = (500, 500), left_margin = 6Plots.mm)"
   ]
  },
  {
   "cell_type": "markdown",
   "id": "821a28e2",
   "metadata": {},
   "source": [
    "An `ace1_model` is defined as"
   ]
  },
  {
   "cell_type": "code",
   "execution_count": null,
   "id": "efd9b930",
   "metadata": {},
   "outputs": [],
   "source": [
    "model = ace1_model(elements = [:Ti, :Al],\n",
    "                   order = 3,\n",
    "                   totaldegree = 6,\n",
    "                   rcut = 5.5,\n",
    "                   Eref = Dict(:Ti => -1586.0195, :Al => -105.5954))\n",
    "@show length_basis(model);"
   ]
  },
  {
   "cell_type": "markdown",
   "id": "fdd573fa",
   "metadata": {},
   "source": [
    "and it is fit in the same manner."
   ]
  },
  {
   "cell_type": "code",
   "execution_count": null,
   "id": "8e1bc097",
   "metadata": {},
   "outputs": [],
   "source": [
    "acefit!(tial_data[1:5:end], model);\n",
    "linear_errors(tial_data[1:5:end], model);"
   ]
  },
  {
   "cell_type": "markdown",
   "id": "6b31f5b4",
   "metadata": {},
   "source": [
    "## Part 6: Recreate data from the ACEpotentials.jl paper\n",
    "\n",
    "The ACEpotentials paper (https://arxiv.org/abs/2309.03161) includes comparisons with results from\n",
    "\n",
    "> Y. Zuo, C. Chen, X. Li, Z. Deng, Y. Chen, J. Behler, G. Csányi, A. V. Shapeev, A. P. Thompson, M. A. Wood, and S. P. Ong, **Performance and cost assessment of machine learning interatomic potentials**, J. Chem. Phys. A 124, 731 (2020).\n",
    "\n",
    "This section can be used to reproduce those results (within the new version of ACEpotentials which is close to but not 100% backward compatible).\n",
    "\n",
    "Because the assembly of the entire design matrix is a little more time-consuming, it is useful to setup some additional processes. "
   ]
  },
  {
   "cell_type": "code",
   "execution_count": null,
   "id": "551b49b4",
   "metadata": {},
   "outputs": [],
   "source": [
    "using Distributed\n",
    "addprocs(10, exeflags=\"--project=$(Base.active_project())\")\n",
    "@everywhere using ACEpotentials"
   ]
  },
  {
   "cell_type": "code",
   "execution_count": null,
   "id": "295b7f17",
   "metadata": {},
   "outputs": [],
   "source": [
    "### Choose elements to include\n",
    "#elements = [:Ni, :Cu, :Li, :Mo, :Si, :Ge]\n",
    "elements = [:Ni, :Cu]\n",
    "\n",
    "### Choose a model size\n",
    "totaldegree = [ 20, 16, 12 ]  # small model: ~ 300  basis functions\n",
    "#totaldegree = [ 25, 21, 17 ]  # large model: ~ 1000 basis functions              \n",
    "\n",
    "errors = Dict(\"E\" => Dict(), \"F\" => Dict())\n",
    "\n",
    "for element in elements \n",
    "\n",
    "    # load the dataset\n",
    "    @info(\"---------- loading $(element) dataset ----------\")\n",
    "    train, test, _ = ACEpotentials.example_dataset(\"Zuo20_$element\")\n",
    "    # specify the model\n",
    "    model = ace1_model(elements = [element], order = 3, totaldegree = totaldegree)\n",
    "    @info(\"$element model length: $(length_basis(model))\")\n",
    "    # train the model \n",
    "    acefit!(train, model, solver = ACEfit.BLR(; factorization = :svd))\n",
    "    # compute and store errors\n",
    "    err  = linear_errors(test,  model)\n",
    "    errors[\"E\"][element] = err[\"mae\"][\"set\"][\"E\"] * 1000\n",
    "    errors[\"F\"][element] = err[\"mae\"][\"set\"][\"F\"]\n",
    "\n",
    "end"
   ]
  },
  {
   "cell_type": "code",
   "execution_count": null,
   "id": "0baace68",
   "metadata": {},
   "outputs": [],
   "source": [
    "# kill all the additional processes again\n",
    "rmprocs(2:nprocs())"
   ]
  },
  {
   "cell_type": "markdown",
   "id": "7e6ad020",
   "metadata": {},
   "source": [
    "Finally, create the tables."
   ]
  },
  {
   "cell_type": "code",
   "execution_count": null,
   "id": "609a12f8",
   "metadata": {},
   "outputs": [],
   "source": [
    "header = ([ \"\", \"ACE\", \"GAP\", \"MTP\"])\n",
    "\n",
    "# create energy table\n",
    "e_table_gap = Dict(\n",
    "    :Ni => 0.42, :Cu => 0.46, :Li => 0.49,\n",
    "    :Mo => 2.24, :Si => 2.91, :Ge => 2.06)\n",
    "e_table_mtp = Dict(\n",
    "    :Ni => 0.48, :Cu => 0.41, :Li => 0.49,\n",
    "    :Mo => 2.83, :Si => 2.21, :Ge => 1.79)\n",
    "e_table = hcat(\n",
    "    string.(elements),\n",
    "    [round(errors[\"E\"][element], digits=3) for element in elements],\n",
    "    [e_table_gap[element] for element in elements],\n",
    "    [e_table_mtp[element] for element in elements])\n",
    "println(\"Energy Error\")\n",
    "pretty_table(e_table; header = header)\n",
    "     \n",
    "# create force table\n",
    "f_table_gap = Dict(\n",
    "    :Ni => 0.02, :Cu => 0.01, :Li => 0.01,\n",
    "    :Mo => 0.09, :Si => 0.07, :Ge => 0.05)\n",
    "f_table_mtp = Dict(\n",
    "    :Ni => 0.01, :Cu => 0.01, :Li => 0.01,\n",
    "    :Mo => 0.09, :Si => 0.06, :Ge => 0.05)\n",
    "f_table = hcat(\n",
    "    string.(elements),\n",
    "    [round(errors[\"F\"][element], digits=3) for element in elements], \n",
    "    [f_table_gap[element] for element in elements],\n",
    "    [f_table_mtp[element] for element in elements])\n",
    "println(\"Force Error\")\n",
    "pretty_table(f_table; header = header)"
   ]
  },
  {
   "cell_type": "markdown",
   "id": "37a2280a",
   "metadata": {},
   "source": [
    "## Part 7: Next steps"
   ]
  },
  {
   "cell_type": "markdown",
   "id": "4324ea0c",
   "metadata": {},
   "source": [
    "* Review tutorials from ACEpotentials documentation: https://acesuit.github.io/ACEpotentials.jl/dev/tutorials/\n",
    "* Parallel fitting: https://acesuit.github.io/ACEpotentials.jl/dev/gettingstarted/parallel-fitting/\n",
    "* Use an `ACEpotentials.jl` potential with ASE: https://acesuit.github.io/ACEpotentials.jl/dev/tutorials/python_ase/\n",
    "* Install LAMMPS with ACEpotentials patch: https://acesuit.github.io/ACEpotentials.jl/dev/tutorials/lammps/"
   ]
  }
 ],
 "metadata": {
  "kernelspec": {
   "display_name": "Julia 1.10.4",
   "language": "julia",
   "name": "julia-1.10"
  },
  "language_info": {
   "file_extension": ".jl",
   "mimetype": "application/julia",
   "name": "julia",
   "version": "1.10.4"
  }
 },
 "nbformat": 4,
 "nbformat_minor": 5
}
